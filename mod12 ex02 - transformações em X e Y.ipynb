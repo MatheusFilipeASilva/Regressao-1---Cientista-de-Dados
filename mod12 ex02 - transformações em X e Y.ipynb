{
 "cells": [
  {
   "cell_type": "markdown",
   "metadata": {},
   "source": [
    "# Regressão 01 - tarefa 02 - transformações em X e Y"
   ]
  },
  {
   "cell_type": "markdown",
   "metadata": {},
   "source": [
    "### 1. Melhorando o ajuste no percentual de gorjetas\n",
    "\n",
    "a. Vamos partir do modelo feito na última tarefa, o que relaciona ```tip_pct``` e ```net_bill```. Carregue a base, os pacotes e reproduza este modelo aqui."
   ]
  },
  {
   "cell_type": "code",
   "execution_count": 10,
   "metadata": {},
   "outputs": [
    {
     "name": "stdout",
     "output_type": "stream",
     "text": [
      "     total_bill   tip     sex smoker   day    time  size  net_bill   tip_pct\n",
      "0         16.99  1.01  Female     No   Sun  Dinner     2     15.98  0.063204\n",
      "1         10.34  1.66    Male     No   Sun  Dinner     3      8.68  0.191244\n",
      "2         21.01  3.50    Male     No   Sun  Dinner     3     17.51  0.199886\n",
      "3         23.68  3.31    Male     No   Sun  Dinner     2     20.37  0.162494\n",
      "4         24.59  3.61  Female     No   Sun  Dinner     4     20.98  0.172069\n",
      "..          ...   ...     ...    ...   ...     ...   ...       ...       ...\n",
      "239       29.03  5.92    Male     No   Sat  Dinner     3     23.11  0.256166\n",
      "240       27.18  2.00  Female    Yes   Sat  Dinner     2     25.18  0.079428\n",
      "241       22.67  2.00    Male    Yes   Sat  Dinner     2     20.67  0.096759\n",
      "242       17.82  1.75    Male     No   Sat  Dinner     2     16.07  0.108899\n",
      "243       18.78  3.00  Female     No  Thur  Dinner     2     15.78  0.190114\n",
      "\n",
      "[244 rows x 9 columns]\n"
     ]
    }
   ],
   "source": [
    "import pandas as pd\n",
    "import seaborn as sns\n",
    "from seaborn import load_dataset\n",
    "\n",
    "import matplotlib.pyplot as plt\n",
    "\n",
    "import numpy as np\n",
    "\n",
    "import statsmodels.formula.api as smf\n",
    "\n",
    "\n",
    "\n",
    "tips = sns.load_dataset('tips')\n",
    "tips['net_bill'] = tips['total_bill'] - tips['tip']\n",
    "tips['tip_pct'] = tips['tip']/tips['net_bill']\n",
    "print(tips)"
   ]
  },
  {
   "cell_type": "markdown",
   "metadata": {},
   "source": [
    "### 2. ajuste o modelo de ```tip_pct``` em função do logaritmo de ```net_bill```."
   ]
  },
  {
   "cell_type": "code",
   "execution_count": 15,
   "metadata": {},
   "outputs": [
    {
     "data": {
      "text/plain": [
       "0.33273026577456555"
      ]
     },
     "execution_count": 15,
     "metadata": {},
     "output_type": "execute_result"
    }
   ],
   "source": [
    "regr1 = smf.ols('tip_pct ~ net_bill + np.log(net_bill)', data = tips).fit()\n",
    "regr1.rsquared"
   ]
  },
  {
   "cell_type": "markdown",
   "metadata": {},
   "source": [
    "###  3. ajuste o modelo de ```tip_pct``` em função de um polinômio de segundo grau em ```net_bill```."
   ]
  },
  {
   "cell_type": "code",
   "execution_count": 17,
   "metadata": {},
   "outputs": [
    {
     "data": {
      "text/plain": [
       "0.15760784734296185"
      ]
     },
     "execution_count": 17,
     "metadata": {},
     "output_type": "execute_result"
    }
   ],
   "source": [
    "regr2 = smf.ols('tip_pct ~ net_bill + np.power(net_bill, 2)', data = tips).fit()\n",
    "regr2.rsquared"
   ]
  },
  {
   "cell_type": "markdown",
   "metadata": {},
   "source": [
    "###  4. ajuste um modelo no log do ```tip_pct``` em função de ```net_bill```. Calcule o $R^2$ também em ```tip_pct```"
   ]
  },
  {
   "cell_type": "code",
   "execution_count": 33,
   "metadata": {},
   "outputs": [
    {
     "name": "stdout",
     "output_type": "stream",
     "text": [
      "0.23534487140864313\n"
     ]
    },
    {
     "data": {
      "text/plain": [
       "0.9816827488318465"
      ]
     },
     "execution_count": 33,
     "metadata": {},
     "output_type": "execute_result"
    }
   ],
   "source": [
    "regr3 = smf.ols('np.log(tip_pct) ~ net_bill' , data = tips).fit()\n",
    "print(regr3.rsquared)\n",
    "tips['predtp_regr3'] = np.exp(regr3.fittedvalues)\n",
    "tips[['predtp_regr3', 'net_bill']].corr().iloc[0, 1]**2"
   ]
  },
  {
   "cell_type": "markdown",
   "metadata": {},
   "source": [
    "###  5. ajuste um modelo no log do ```tip_pct``` em função do log de ```net_bill```. Calcule o $R^2$ também em ```tip_pct```."
   ]
  },
  {
   "cell_type": "code",
   "execution_count": 35,
   "metadata": {},
   "outputs": [
    {
     "name": "stdout",
     "output_type": "stream",
     "text": [
      "0.29922804168382067\n"
     ]
    },
    {
     "data": {
      "text/plain": [
       "0.8465446734651377"
      ]
     },
     "execution_count": 35,
     "metadata": {},
     "output_type": "execute_result"
    }
   ],
   "source": [
    "regr4 = smf.ols('np.log(tip_pct) ~ net_bill + np.log(net_bill)', data = tips).fit()\n",
    "tips['log_net_bill'] = np.log(tips['net_bill'])\n",
    "tips['pred_regr4'] = np.exp(regr4.fittedvalues)\n",
    "print(regr4.rsquared)\n",
    "tips[['pred_regr4', 'log_net_bill']].corr().iloc[0,1]**2"
   ]
  },
  {
   "cell_type": "markdown",
   "metadata": {},
   "source": [
    "###  6. qual modelo resultou no melhor ajuste?"
   ]
  },
  {
   "cell_type": "markdown",
   "metadata": {},
   "source": [
    "O modelo que resultou no melhor ajuste foi o modeloque relacionou o log do tip_pct com o net_bill. Isso se dá devido ao fato de os percentuais de gorjeta diminuirem de acordo com que a conta vai ficando maior, embora o valor cap de tip aumente conforme aumenta a conta. Esta situação faz com que seja apropriado aplicar"
   ]
  }
 ],
 "metadata": {
  "kernelspec": {
   "display_name": "Python 3 (ipykernel)",
   "language": "python",
   "name": "python3"
  },
  "language_info": {
   "codemirror_mode": {
    "name": "ipython",
    "version": 3
   },
   "file_extension": ".py",
   "mimetype": "text/x-python",
   "name": "python",
   "nbconvert_exporter": "python",
   "pygments_lexer": "ipython3",
   "version": "3.12.4"
  }
 },
 "nbformat": 4,
 "nbformat_minor": 4
}
